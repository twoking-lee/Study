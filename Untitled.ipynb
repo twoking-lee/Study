{
 "cells": [
  {
   "cell_type": "code",
   "execution_count": 4,
   "metadata": {},
   "outputs": [],
   "source": [
    "import pandas as pd\n"
   ]
  },
  {
   "cell_type": "code",
   "execution_count": 9,
   "metadata": {},
   "outputs": [],
   "source": [
    "df = pd.read_csv('파주시.csv')"
   ]
  },
  {
   "cell_type": "code",
   "execution_count": 10,
   "metadata": {},
   "outputs": [
    {
     "name": "stdout",
     "output_type": "stream",
     "text": [
      "<class 'pandas.core.frame.DataFrame'>\n",
      "RangeIndex: 3283 entries, 0 to 3282\n",
      "Data columns (total 22 columns):\n",
      " #   Column      Non-Null Count  Dtype  \n",
      "---  ------      --------------  -----  \n",
      " 0   Unnamed: 0  3283 non-null   int64  \n",
      " 1   지역코드        3283 non-null   int64  \n",
      " 2   법정동         3283 non-null   object \n",
      " 3   거래일         3283 non-null   object \n",
      " 4   아파트         3283 non-null   object \n",
      " 5   지번          3283 non-null   object \n",
      " 6   전용면적        3283 non-null   float64\n",
      " 7   층           3283 non-null   int64  \n",
      " 8   건축년도        3283 non-null   int64  \n",
      " 9   거래금액        3283 non-null   int64  \n",
      " 10  법정동본번코드     3283 non-null   int64  \n",
      " 11  법정동부번코드     3283 non-null   int64  \n",
      " 12  법정동시군구코드    3283 non-null   int64  \n",
      " 13  법정동읍면동코드    3283 non-null   int64  \n",
      " 14  법정동지번코드     3283 non-null   int64  \n",
      " 15  도로명         3283 non-null   object \n",
      " 16  도로명건물본번호코드  3283 non-null   int64  \n",
      " 17  도로명건물부번호코드  3283 non-null   int64  \n",
      " 18  도로명시군구코드    3283 non-null   int64  \n",
      " 19  도로명일련번호코드   3283 non-null   int64  \n",
      " 20  도로명지상지하코드   3203 non-null   float64\n",
      " 21  도로명코드       3283 non-null   int64  \n",
      "dtypes: float64(2), int64(15), object(5)\n",
      "memory usage: 564.4+ KB\n"
     ]
    }
   ],
   "source": [
    "df.info()"
   ]
  },
  {
   "cell_type": "code",
   "execution_count": 11,
   "metadata": {},
   "outputs": [],
   "source": [
    "df = df[[\"지역코드\",\"법정동\",\"거래일\",\"아파트\",\"지번\",\"전용면적\",'층','건축년도','거래금액']]"
   ]
  },
  {
   "cell_type": "code",
   "execution_count": 12,
   "metadata": {},
   "outputs": [],
   "source": [
    "df.to_excel('파주시.xlsx')"
   ]
  },
  {
   "cell_type": "code",
   "execution_count": null,
   "metadata": {},
   "outputs": [],
   "source": []
  }
 ],
 "metadata": {
  "kernelspec": {
   "display_name": "Python 3",
   "language": "python",
   "name": "python3"
  },
  "language_info": {
   "codemirror_mode": {
    "name": "ipython",
    "version": 3
   },
   "file_extension": ".py",
   "mimetype": "text/x-python",
   "name": "python",
   "nbconvert_exporter": "python",
   "pygments_lexer": "ipython3",
   "version": "3.7.6"
  }
 },
 "nbformat": 4,
 "nbformat_minor": 4
}
