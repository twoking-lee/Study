{
  "nbformat": 4,
  "nbformat_minor": 0,
  "metadata": {
    "colab": {
      "name": "선형 회귀(Linear Regression)",
      "provenance": [],
      "collapsed_sections": [],
      "authorship_tag": "ABX9TyPQQI39nk0l4sYM6cMSWKvh",
      "include_colab_link": true
    },
    "kernelspec": {
      "name": "python3",
      "display_name": "Python 3"
    }
  },
  "cells": [
    {
      "cell_type": "markdown",
      "metadata": {
        "id": "view-in-github",
        "colab_type": "text"
      },
      "source": [
        "<a href=\"https://colab.research.google.com/github/twoking-lee/Study/blob/master/%EC%84%A0%ED%98%95_%ED%9A%8C%EA%B7%80(Linear_Regression).ipynb\" target=\"_parent\"><img src=\"https://colab.research.google.com/assets/colab-badge.svg\" alt=\"Open In Colab\"/></a>"
      ]
    },
    {
      "cell_type": "markdown",
      "metadata": {
        "id": "Uj05J3cNKFx5"
      },
      "source": [
        "\r\n",
        "### 1. Linear Regression 정의\r\n",
        "\r\n",
        "> 회귀 문제는 주어진 데이터포인트  x 에 해당하는 실제 값으로 주어지는 타겟  y 를 예측하는 과제입니다. 회귀 문제는 현실에서 많이 보이는 문제입니다. 예를 들면, 주택 가격, 기온, 판매량 등과 같은 연속된 값을 예측하는 문제들을 들 수 있습니다. 이는 결과 값이 이미지 분류와 같이 과일의 종류를 예측하는 이산적인(discrete) 구분 문제(classification)와는 다릅니다."
      ]
    },
    {
      "cell_type": "markdown",
      "metadata": {
        "id": "-cASHbLoKGEY"
      },
      "source": [
        ""
      ]
    },
    {
      "cell_type": "markdown",
      "metadata": {
        "id": "sNU-3V08vjQ1"
      },
      "source": [
        "### 2. 선형 모델\r\n",
        "\r\n",
        "\r\n",
        "\r\n",
        "간단한 예로, 집의 면적(제곱 미터)과 지어진 후 몇 년이 되었는지를 입력으로 사용해서 주택 가격을 예측하는 문제를 들어보겠습니다. 이 경우 모델을 다음과 같은 수식으로 표현할 수 있습니다.\r\n",
        "\r\n",
        "> price=warea⋅area+wage⋅age+b\r\n"
      ]
    },
    {
      "cell_type": "markdown",
      "metadata": {
        "id": "frt-SsTuKGHU"
      },
      "source": [
        ""
      ]
    }
  ]
}