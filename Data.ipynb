{
 "cells": [
  {
   "cell_type": "code",
   "execution_count": 25,
   "metadata": {},
   "outputs": [],
   "source": [
    "import pandas as pd\n",
    "import re\n",
    "import numpy as np\n"
   ]
  },
  {
   "cell_type": "code",
   "execution_count": 26,
   "metadata": {},
   "outputs": [],
   "source": [
    "df =pd.read_csv(\"데이터.csv\" , encoding=\"utf-8\")"
   ]
  },
  {
   "cell_type": "code",
   "execution_count": 27,
   "metadata": {},
   "outputs": [
    {
     "name": "stdout",
     "output_type": "stream",
     "text": [
      "<class 'pandas.core.frame.DataFrame'>\n",
      "RangeIndex: 945 entries, 0 to 944\n",
      "Data columns (total 84 columns):\n",
      " #   Column                 Non-Null Count  Dtype  \n",
      "---  ------                 --------------  -----  \n",
      " 0   _id                    945 non-null    object \n",
      " 1   kind                   936 non-null    object \n",
      " 2   brandName              945 non-null    object \n",
      " 3   promotion              945 non-null    object \n",
      " 4   introduceText          945 non-null    object \n",
      " 5   userId                 934 non-null    object \n",
      " 6   state                  945 non-null    object \n",
      " 7   stageState             101 non-null    object \n",
      " 8   updatedAt              945 non-null    object \n",
      " 9   isPromotion            945 non-null    bool   \n",
      " 10  isActive               945 non-null    bool   \n",
      " 11  isVisible              945 non-null    bool   \n",
      " 12  count                  945 non-null    int64  \n",
      " 13  favorites              945 non-null    int64  \n",
      " 14  createdAt              945 non-null    object \n",
      " 15  userEmail              934 non-null    object \n",
      " 16  enterprise             90 non-null     object \n",
      " 17  company                90 non-null     object \n",
      " 18  index                  945 non-null    int64  \n",
      " 19  mainImage              938 non-null    object \n",
      " 20  logoImage              938 non-null    object \n",
      " 21  brandDescriptionTitle  862 non-null    object \n",
      " 22  brandDescriptionText   945 non-null    object \n",
      " 23  radio1                 853 non-null    object \n",
      " 24  radio2                 853 non-null    object \n",
      " 25  radio3                 853 non-null    object \n",
      " 26  radio4                 853 non-null    object \n",
      " 27  radio5                 853 non-null    object \n",
      " 28  radio6                 853 non-null    object \n",
      " 29  b_competition1         936 non-null    object \n",
      " 30  b_competition2         936 non-null    object \n",
      " 31  b_competition3         936 non-null    object \n",
      " 32  b_competition4         936 non-null    object \n",
      " 33  b_competition5         936 non-null    object \n",
      " 34  b_competition6         936 non-null    object \n",
      " 35  b_competition7         936 non-null    object \n",
      " 36  baseStart              925 non-null    object \n",
      " 37  baseEdu                925 non-null    object \n",
      " 38  baseSizePrice          924 non-null    object \n",
      " 39  baseSizeAllPrice       923 non-null    object \n",
      " 40  baseEquip              931 non-null    object \n",
      " 41  baseEtc                853 non-null    object \n",
      " 42  baseLoyal              935 non-null    object \n",
      " 43  baseEarn               853 non-null    object \n",
      " 44  baseSum                922 non-null    float64\n",
      " 45  sizeAllPrice           832 non-null    float64\n",
      " 46  productImage           936 non-null    object \n",
      " 47  differ1                853 non-null    object \n",
      " 48  categoryImage          936 non-null    object \n",
      " 49  companyName            936 non-null    object \n",
      " 50  ceoName                936 non-null    object \n",
      " 51  companyAddress         936 non-null    object \n",
      " 52  homepage               936 non-null    object \n",
      " 53  phone                  936 non-null    object \n",
      " 54  securityNum            936 non-null    object \n",
      " 55  haveSecurityNum        936 non-null    object \n",
      " 56  startsAt               936 non-null    object \n",
      " 57  endsAt                 945 non-null    object \n",
      " 58  companyFoundationDate  923 non-null    object \n",
      " 59  isNew                  864 non-null    object \n",
      " 60  promotionTitle         934 non-null    object \n",
      " 61  promotionText          934 non-null    object \n",
      " 62  detailMenu             934 non-null    object \n",
      " 63  promotionStartsAt      934 non-null    object \n",
      " 64  promotionEndsAt        934 non-null    object \n",
      " 65  differ2                853 non-null    object \n",
      " 66  differ3                853 non-null    object \n",
      " 67  differ4                853 non-null    object \n",
      " 68  differ5                853 non-null    object \n",
      " 69  differ6                853 non-null    object \n",
      " 70  differ7                853 non-null    object \n",
      " 71  news                   945 non-null    object \n",
      " 72  isLong                 926 non-null    object \n",
      " 73  baseSize               832 non-null    float64\n",
      " 74  size                   941 non-null    float64\n",
      " 75  version                862 non-null    float64\n",
      " 76  investments            945 non-null    object \n",
      " 77  brandPoints            926 non-null    object \n",
      " 78  promoVideo             702 non-null    object \n",
      " 79  branchesCount          701 non-null    object \n",
      " 80  differs                702 non-null    object \n",
      " 81  youtube                702 non-null    object \n",
      " 82  baseDeposit1           907 non-null    object \n",
      " 83  baseDeposit2           917 non-null    object \n",
      "dtypes: bool(3), float64(5), int64(3), object(73)\n",
      "memory usage: 600.9+ KB\n"
     ]
    }
   ],
   "source": [
    "df.info()"
   ]
  },
  {
   "cell_type": "code",
   "execution_count": 49,
   "metadata": {},
   "outputs": [
    {
     "data": {
      "text/plain": [
       "[\"매장운영\",\"1인창업\",\"청년창업\",\"은퇴창업\",\"10대\",\"20대\",\"오전-심야\",\"24시간\",\"저가\",\"중심가\",\"오피스\",\"학교학원가\"]                         1\n",
       "[\"매장운영\",\"1인창업\",\"가족창업\",\"청년창업\",\"은퇴창업\",\"10대\",\"20대\",\"30대\",\"오전-심야\",\"오후-심야\",\"저가\",\"중가\",\"중심가\",\"골목\",\"변두리\",\"주거\"]    1\n",
       "[\"1인창업\",\"가족창업\",\"청년창업\",\"20대\",\"30대\",\"오후-심야\",\"저가\",\"중저가\",\"중심가\",\"골목\",\"오피스\",\"주거\"]                               1\n",
       "[\"1인창업\",\"청년창업\",\"20대\",\"30대\",\"중장년\",\"오후-심야\",\"저가\",\"중심가\",\"골목\",\"변두리\",\"오피스\"]                                     1\n",
       "[\"1인창업\",\"청년창업\",\"여성창업\",\"키즈\",\"10대\",\"20대\",\"오전-오후\",\"저가\",\"중저가\",\"주거\"]                                           1\n",
       "Name: brandPoints, dtype: int64"
      ]
     },
     "execution_count": 49,
     "metadata": {},
     "output_type": "execute_result"
    }
   ],
   "source": [
    "df[\"brandPoints\"].value_counts(sort=False).head(5)"
   ]
  },
  {
   "cell_type": "code",
   "execution_count": 50,
   "metadata": {},
   "outputs": [
    {
     "data": {
      "text/plain": [
       "'[\\'[\"1인창업\",\"가족창업\",\"청년창업\",\"20대\",\"30대\",\"오후-심야\",\"저가\",\"중저가\",\"중심가\",\"골목\",\"오피스\",\"주거\"]\\', \\'[\"1인창업\",\"가족창업\",\"청년창업\",\"10대\",\"20대\",\"30대\",\"오후-심야\",\"고가\",\"중심가\",\"골목\",\"변두리\",\"오피스\"]\\', \\'[\"1인창업\",\"청년창업\",\"가족창업\",\"10대\",\"20대\",\"30대\",\"오후-심야\",\"저가\",\"중저가\",\"중심가\",\"골목\",\"변두리\",\"오피스\"]\\', \\'[\"청년창업\",\"20대\",\"30대\",\"오후-심야\",\"24시간\",\"저가\",\"중저가\",\"골목\",\"변두리\",\"오피스\"]\\', \\'[\"매장운영\",\"청년창업\",\"여성창업\",\"은퇴창업\",\"중장년\",\"실버\",\"오전-오후\",\"오전-심야\",\"고가\",\"중심가\",\"골목\",\"주거\"]\\', \\'[\"매장운영\",\"가족창업\",\"청년창업\",\"은퇴창업\",\"30대\",\"중장년\",\"오전-심야\",\"24시간\",\"중저가\",\"골목\",\"변두리\",\"주거\"]\\', \\'[\"매장운영\",\"1인창업\",\"청년창업\",\"여성창업\",\"20대\",\"30대\",\"오전-오후\",\"오후-심야\",\"중저가\",\"골목\",\"변두리\",\"주거\"]\\', \\'[\"청년창업\",\"키즈\",\"오전-오후\",\"오전-심야\",\"저가\",\"중저가\",\"중심가\",\"골목\",\"학교학원가\",\"주거\"]\\', \\'[\"매장운영\",\"청년창업\",\"20대\",\"30대\",\"오전-심야\",\"오후-심야\",\"중저가\",\"중심가\",\"골목\",\"변두리\"]\\', \\'[\"매장운영\",\"1인창업\",\"가족창업\",\"청년창업\",\"은퇴창업\",\"20대\",\"30대\",\"중장년\",\"오전-심야\",\"오후-심야\",\"저가\",\"중저가\",\"중심가\",\"골목\",\"변두리\",\"주거\",\"학교학원가\"]\\', \\'[\"매장운영\",\"가족창업\",\"청년창업\",\"은퇴창업\",\"20대\",\"30대\",\"중장년\",\"오전-심야\",\"오후-심야\",\"저가\",\"중저가\",\"중가\",\"중심가\",\"골목\",\"오피스\",\"주거\",\"학교학원가\"]\\', \\'[\"매장운영\",\"가족창업\",\"청년창업\",\"은퇴창업\",\"20대\",\"30대\",\"중장년\",\"오전-심야\",\"오후-심야\",\"저가\",\"중저가\",'"
      ]
     },
     "execution_count": 50,
     "metadata": {},
     "output_type": "execute_result"
    }
   ],
   "source": [
    "style = df[\"brandPoints\"].unique().tolist()\n",
    "style = str(style)\n",
    "style[:1000]"
   ]
  },
  {
   "cell_type": "code",
   "execution_count": 51,
   "metadata": {},
   "outputs": [
    {
     "data": {
      "text/plain": [
       "'[,[\"1인창업\",\"가족창업\",\"청년창업\",\"20대\",\"30대\",\"오후-심야\",\"저가\",\"중저가\",\"중심가\",\"골목\",\"오피스\",\"주거\"],,,,[\"1인창업\",\"가족창업\",\"청년창업\",\"10대\",\"20대\",\"30대\",\"오후-심야\",\"고가\",\"중심가\",\"골목\",\"변두리\",\"오피스\"],,,,[\"1인창업\",\"청년창업\",\"가족창업\",\"10대\",\"20대\",\"30대\",\"오후-심야\",\"저가\",\"중저가\",\"중심가\",\"골목\",\"변두리\",\"오피스\"],,,,[\"청년창업\",\"20대\",\"30대\",\"오후-심야\",\"24시간\",\"저가\",\"중저가\",\"골목\",\"변두리\",\"오피스\"],,,,[\"매장운영\",\"청년창업\",\"여성창업\",\"은퇴창업\",\"중장년\",\"실버\",\"오전-오후\",\"오전-심야\",\"고가\",\"중심가\",\"골목\",\"주거\"],,,,[\"매장운영\",\"가족창업\",\"청년창업\",\"은퇴창업\",\"30대\",\"중장년\",\"오전-심야\",\"24시간\",\"중저가\",\"골목\",\"변두리\",\"주거\"],,,,[\"매장운영\",\"1인창업\",\"청년창업\",\"여성창업\",\"20대\",\"30대\",\"오전-오후\",\"오후-심야\",\"중저가\",\"골목\",\"변두리\",\"주거\"],,,,[\"청년창업\",\"키즈\",\"오전-오후\",\"오전-심야\",\"저가\",\"중저가\",\"중심가\",\"골목\",\"학교학원가\",\"주거\"],,,,[\"매장운영\",\"청년창업\",\"20대\",\"30대\",\"오전-심야\",\"오후-심야\",\"중저가\",\"중심가\",\"골목\",\"변두리\"],,,,[\"매장운영\",\"1인창업\",\"가족창업\",\"청년창업\",\"은퇴창업\",\"20대\",\"30대\",\"중장년\",\"오전-심야\",\"오후-심야\",\"저가\",\"중저가\",\"중심가\",\"골목\",\"변두리\",\"주거\",\"학교학원가\"],,,,[\"매장운영\",\"가족창업\",\"청년창업\",\"은퇴창업\",\"20대\",\"30대\",\"중장년\",\"오전-심야\",\"오후-심야\",\"저가\",\"중저가\",\"중가\",\"중심가\",\"골목\",\"오피스\",\"주거\",\"학교학원가\"],,,,[\"매장운영\",\"가족창업\",\"청년창업\",\"은퇴창업\",\"20대\",\"30대\",\"중장년\",\"오전-심야\",\"오후-심야\",\"저가\",\"중저가\",'"
      ]
     },
     "execution_count": 51,
     "metadata": {},
     "output_type": "execute_result"
    }
   ],
   "source": [
    "style = style.replace(\"+\", \",\").replace(\"'\", \",\").replace(\" \", \",\").replace(\"/\", \",\")\n",
    "style[:1000]"
   ]
  },
  {
   "cell_type": "code",
   "execution_count": 56,
   "metadata": {},
   "outputs": [
    {
     "ename": "error",
     "evalue": "unterminated character set at position 0",
     "output_type": "error",
     "traceback": [
      "\u001b[1;31m---------------------------------------------------------------------------\u001b[0m",
      "\u001b[1;31merror\u001b[0m                                     Traceback (most recent call last)",
      "\u001b[1;32m<ipython-input-56-a3172fbc03f8>\u001b[0m in \u001b[0;36m<module>\u001b[1;34m\u001b[0m\n\u001b[0;32m      5\u001b[0m \u001b[1;31m# 예를들어 .이라면 \\. 으로 사용합니다.\u001b[0m\u001b[1;33m\u001b[0m\u001b[1;33m\u001b[0m\u001b[1;33m\u001b[0m\u001b[0m\n\u001b[0;32m      6\u001b[0m \u001b[1;31m# 여기에서는 숫자와 .을 제거하도록 합니다.\u001b[0m\u001b[1;33m\u001b[0m\u001b[1;33m\u001b[0m\u001b[1;33m\u001b[0m\u001b[0m\n\u001b[1;32m----> 7\u001b[1;33m \u001b[0mstyle\u001b[0m \u001b[1;33m=\u001b[0m \u001b[0mre\u001b[0m\u001b[1;33m.\u001b[0m\u001b[0msub\u001b[0m\u001b[1;33m(\u001b[0m\u001b[1;34m\"[\"\u001b[0m\u001b[1;33m,\u001b[0m \u001b[1;34m\"\"\u001b[0m\u001b[1;33m,\u001b[0m \u001b[0mstyle\u001b[0m\u001b[1;33m)\u001b[0m\u001b[1;33m\u001b[0m\u001b[1;33m\u001b[0m\u001b[0m\n\u001b[0m\u001b[0;32m      8\u001b[0m \u001b[0mstyle\u001b[0m \u001b[1;33m=\u001b[0m \u001b[0mre\u001b[0m\u001b[1;33m.\u001b[0m\u001b[0msub\u001b[0m\u001b[1;33m(\u001b[0m\u001b[1;34m\",{2,}\"\u001b[0m\u001b[1;33m,\u001b[0m \u001b[1;34m\",\"\u001b[0m\u001b[1;33m,\u001b[0m \u001b[0mstyle\u001b[0m\u001b[1;33m)\u001b[0m\u001b[1;33m\u001b[0m\u001b[1;33m\u001b[0m\u001b[0m\n\u001b[0;32m      9\u001b[0m \u001b[0mstyle\u001b[0m\u001b[1;33m[\u001b[0m\u001b[1;33m:\u001b[0m\u001b[1;36m1000\u001b[0m\u001b[1;33m]\u001b[0m\u001b[1;33m\u001b[0m\u001b[1;33m\u001b[0m\u001b[0m\n",
      "\u001b[1;32m~\\anaconda3\\lib\\re.py\u001b[0m in \u001b[0;36msub\u001b[1;34m(pattern, repl, string, count, flags)\u001b[0m\n\u001b[0;32m    190\u001b[0m     \u001b[0ma\u001b[0m \u001b[0mcallable\u001b[0m\u001b[1;33m,\u001b[0m \u001b[0mit\u001b[0m\u001b[0;31m'\u001b[0m\u001b[0ms\u001b[0m \u001b[0mpassed\u001b[0m \u001b[0mthe\u001b[0m \u001b[0mMatch\u001b[0m \u001b[0mobject\u001b[0m \u001b[1;32mand\u001b[0m \u001b[0mmust\u001b[0m \u001b[1;32mreturn\u001b[0m\u001b[1;33m\u001b[0m\u001b[1;33m\u001b[0m\u001b[0m\n\u001b[0;32m    191\u001b[0m     a replacement string to be used.\"\"\"\n\u001b[1;32m--> 192\u001b[1;33m     \u001b[1;32mreturn\u001b[0m \u001b[0m_compile\u001b[0m\u001b[1;33m(\u001b[0m\u001b[0mpattern\u001b[0m\u001b[1;33m,\u001b[0m \u001b[0mflags\u001b[0m\u001b[1;33m)\u001b[0m\u001b[1;33m.\u001b[0m\u001b[0msub\u001b[0m\u001b[1;33m(\u001b[0m\u001b[0mrepl\u001b[0m\u001b[1;33m,\u001b[0m \u001b[0mstring\u001b[0m\u001b[1;33m,\u001b[0m \u001b[0mcount\u001b[0m\u001b[1;33m)\u001b[0m\u001b[1;33m\u001b[0m\u001b[1;33m\u001b[0m\u001b[0m\n\u001b[0m\u001b[0;32m    193\u001b[0m \u001b[1;33m\u001b[0m\u001b[0m\n\u001b[0;32m    194\u001b[0m \u001b[1;32mdef\u001b[0m \u001b[0msubn\u001b[0m\u001b[1;33m(\u001b[0m\u001b[0mpattern\u001b[0m\u001b[1;33m,\u001b[0m \u001b[0mrepl\u001b[0m\u001b[1;33m,\u001b[0m \u001b[0mstring\u001b[0m\u001b[1;33m,\u001b[0m \u001b[0mcount\u001b[0m\u001b[1;33m=\u001b[0m\u001b[1;36m0\u001b[0m\u001b[1;33m,\u001b[0m \u001b[0mflags\u001b[0m\u001b[1;33m=\u001b[0m\u001b[1;36m0\u001b[0m\u001b[1;33m)\u001b[0m\u001b[1;33m:\u001b[0m\u001b[1;33m\u001b[0m\u001b[1;33m\u001b[0m\u001b[0m\n",
      "\u001b[1;32m~\\anaconda3\\lib\\re.py\u001b[0m in \u001b[0;36m_compile\u001b[1;34m(pattern, flags)\u001b[0m\n\u001b[0;32m    284\u001b[0m     \u001b[1;32mif\u001b[0m \u001b[1;32mnot\u001b[0m \u001b[0msre_compile\u001b[0m\u001b[1;33m.\u001b[0m\u001b[0misstring\u001b[0m\u001b[1;33m(\u001b[0m\u001b[0mpattern\u001b[0m\u001b[1;33m)\u001b[0m\u001b[1;33m:\u001b[0m\u001b[1;33m\u001b[0m\u001b[1;33m\u001b[0m\u001b[0m\n\u001b[0;32m    285\u001b[0m         \u001b[1;32mraise\u001b[0m \u001b[0mTypeError\u001b[0m\u001b[1;33m(\u001b[0m\u001b[1;34m\"first argument must be string or compiled pattern\"\u001b[0m\u001b[1;33m)\u001b[0m\u001b[1;33m\u001b[0m\u001b[1;33m\u001b[0m\u001b[0m\n\u001b[1;32m--> 286\u001b[1;33m     \u001b[0mp\u001b[0m \u001b[1;33m=\u001b[0m \u001b[0msre_compile\u001b[0m\u001b[1;33m.\u001b[0m\u001b[0mcompile\u001b[0m\u001b[1;33m(\u001b[0m\u001b[0mpattern\u001b[0m\u001b[1;33m,\u001b[0m \u001b[0mflags\u001b[0m\u001b[1;33m)\u001b[0m\u001b[1;33m\u001b[0m\u001b[1;33m\u001b[0m\u001b[0m\n\u001b[0m\u001b[0;32m    287\u001b[0m     \u001b[1;32mif\u001b[0m \u001b[1;32mnot\u001b[0m \u001b[1;33m(\u001b[0m\u001b[0mflags\u001b[0m \u001b[1;33m&\u001b[0m \u001b[0mDEBUG\u001b[0m\u001b[1;33m)\u001b[0m\u001b[1;33m:\u001b[0m\u001b[1;33m\u001b[0m\u001b[1;33m\u001b[0m\u001b[0m\n\u001b[0;32m    288\u001b[0m         \u001b[1;32mif\u001b[0m \u001b[0mlen\u001b[0m\u001b[1;33m(\u001b[0m\u001b[0m_cache\u001b[0m\u001b[1;33m)\u001b[0m \u001b[1;33m>=\u001b[0m \u001b[0m_MAXCACHE\u001b[0m\u001b[1;33m:\u001b[0m\u001b[1;33m\u001b[0m\u001b[1;33m\u001b[0m\u001b[0m\n",
      "\u001b[1;32m~\\anaconda3\\lib\\sre_compile.py\u001b[0m in \u001b[0;36mcompile\u001b[1;34m(p, flags)\u001b[0m\n\u001b[0;32m    762\u001b[0m     \u001b[1;32mif\u001b[0m \u001b[0misstring\u001b[0m\u001b[1;33m(\u001b[0m\u001b[0mp\u001b[0m\u001b[1;33m)\u001b[0m\u001b[1;33m:\u001b[0m\u001b[1;33m\u001b[0m\u001b[1;33m\u001b[0m\u001b[0m\n\u001b[0;32m    763\u001b[0m         \u001b[0mpattern\u001b[0m \u001b[1;33m=\u001b[0m \u001b[0mp\u001b[0m\u001b[1;33m\u001b[0m\u001b[1;33m\u001b[0m\u001b[0m\n\u001b[1;32m--> 764\u001b[1;33m         \u001b[0mp\u001b[0m \u001b[1;33m=\u001b[0m \u001b[0msre_parse\u001b[0m\u001b[1;33m.\u001b[0m\u001b[0mparse\u001b[0m\u001b[1;33m(\u001b[0m\u001b[0mp\u001b[0m\u001b[1;33m,\u001b[0m \u001b[0mflags\u001b[0m\u001b[1;33m)\u001b[0m\u001b[1;33m\u001b[0m\u001b[1;33m\u001b[0m\u001b[0m\n\u001b[0m\u001b[0;32m    765\u001b[0m     \u001b[1;32melse\u001b[0m\u001b[1;33m:\u001b[0m\u001b[1;33m\u001b[0m\u001b[1;33m\u001b[0m\u001b[0m\n\u001b[0;32m    766\u001b[0m         \u001b[0mpattern\u001b[0m \u001b[1;33m=\u001b[0m \u001b[1;32mNone\u001b[0m\u001b[1;33m\u001b[0m\u001b[1;33m\u001b[0m\u001b[0m\n",
      "\u001b[1;32m~\\anaconda3\\lib\\sre_parse.py\u001b[0m in \u001b[0;36mparse\u001b[1;34m(str, flags, pattern)\u001b[0m\n\u001b[0;32m    922\u001b[0m \u001b[1;33m\u001b[0m\u001b[0m\n\u001b[0;32m    923\u001b[0m     \u001b[1;32mtry\u001b[0m\u001b[1;33m:\u001b[0m\u001b[1;33m\u001b[0m\u001b[1;33m\u001b[0m\u001b[0m\n\u001b[1;32m--> 924\u001b[1;33m         \u001b[0mp\u001b[0m \u001b[1;33m=\u001b[0m \u001b[0m_parse_sub\u001b[0m\u001b[1;33m(\u001b[0m\u001b[0msource\u001b[0m\u001b[1;33m,\u001b[0m \u001b[0mpattern\u001b[0m\u001b[1;33m,\u001b[0m \u001b[0mflags\u001b[0m \u001b[1;33m&\u001b[0m \u001b[0mSRE_FLAG_VERBOSE\u001b[0m\u001b[1;33m,\u001b[0m \u001b[1;36m0\u001b[0m\u001b[1;33m)\u001b[0m\u001b[1;33m\u001b[0m\u001b[1;33m\u001b[0m\u001b[0m\n\u001b[0m\u001b[0;32m    925\u001b[0m     \u001b[1;32mexcept\u001b[0m \u001b[0mVerbose\u001b[0m\u001b[1;33m:\u001b[0m\u001b[1;33m\u001b[0m\u001b[1;33m\u001b[0m\u001b[0m\n\u001b[0;32m    926\u001b[0m         \u001b[1;31m# the VERBOSE flag was switched on inside the pattern.  to be\u001b[0m\u001b[1;33m\u001b[0m\u001b[1;33m\u001b[0m\u001b[1;33m\u001b[0m\u001b[0m\n",
      "\u001b[1;32m~\\anaconda3\\lib\\sre_parse.py\u001b[0m in \u001b[0;36m_parse_sub\u001b[1;34m(source, state, verbose, nested)\u001b[0m\n\u001b[0;32m    418\u001b[0m     \u001b[1;32mwhile\u001b[0m \u001b[1;32mTrue\u001b[0m\u001b[1;33m:\u001b[0m\u001b[1;33m\u001b[0m\u001b[1;33m\u001b[0m\u001b[0m\n\u001b[0;32m    419\u001b[0m         itemsappend(_parse(source, state, verbose, nested + 1,\n\u001b[1;32m--> 420\u001b[1;33m                            not nested and not items))\n\u001b[0m\u001b[0;32m    421\u001b[0m         \u001b[1;32mif\u001b[0m \u001b[1;32mnot\u001b[0m \u001b[0msourcematch\u001b[0m\u001b[1;33m(\u001b[0m\u001b[1;34m\"|\"\u001b[0m\u001b[1;33m)\u001b[0m\u001b[1;33m:\u001b[0m\u001b[1;33m\u001b[0m\u001b[1;33m\u001b[0m\u001b[0m\n\u001b[0;32m    422\u001b[0m             \u001b[1;32mbreak\u001b[0m\u001b[1;33m\u001b[0m\u001b[1;33m\u001b[0m\u001b[0m\n",
      "\u001b[1;32m~\\anaconda3\\lib\\sre_parse.py\u001b[0m in \u001b[0;36m_parse\u001b[1;34m(source, state, verbose, nested, first)\u001b[0m\n\u001b[0;32m    524\u001b[0m                 \u001b[1;32mif\u001b[0m \u001b[0mthis\u001b[0m \u001b[1;32mis\u001b[0m \u001b[1;32mNone\u001b[0m\u001b[1;33m:\u001b[0m\u001b[1;33m\u001b[0m\u001b[1;33m\u001b[0m\u001b[0m\n\u001b[0;32m    525\u001b[0m                     raise source.error(\"unterminated character set\",\n\u001b[1;32m--> 526\u001b[1;33m                                        source.tell() - here)\n\u001b[0m\u001b[0;32m    527\u001b[0m                 \u001b[1;32mif\u001b[0m \u001b[0mthis\u001b[0m \u001b[1;33m==\u001b[0m \u001b[1;34m\"]\"\u001b[0m \u001b[1;32mand\u001b[0m \u001b[0mset\u001b[0m\u001b[1;33m:\u001b[0m\u001b[1;33m\u001b[0m\u001b[1;33m\u001b[0m\u001b[0m\n\u001b[0;32m    528\u001b[0m                     \u001b[1;32mbreak\u001b[0m\u001b[1;33m\u001b[0m\u001b[1;33m\u001b[0m\u001b[0m\n",
      "\u001b[1;31merror\u001b[0m: unterminated character set at position 0"
     ]
    }
   ],
   "source": [
    "# 제거할 특수문자를 빈문자로 대체합니다.\n",
    "# re.sub('[?.,;:|\\)*~`’!^\\-_+<>@\\#$%&-=#}※]', '', text)\n",
    "# 정규표현식에서 +, *, . 등은 특별한 의미를 갖습니다. \n",
    "# 이런 문자를 제거할 때는 \\를 통해 예외처리를 합니다. \n",
    "# 예를들어 .이라면 \\. 으로 사용합니다.\n",
    "# 여기에서는 숫자와 .을 제거하도록 합니다.\n",
    "style = re.sub(\"[\", \"\", style)\n",
    "style = re.sub(\",{2,}\", \",\", style)\n",
    "style[:1000]"
   ]
  }
 ],
 "metadata": {
  "kernelspec": {
   "display_name": "Python 3",
   "language": "python",
   "name": "python3"
  },
  "language_info": {
   "codemirror_mode": {
    "name": "ipython",
    "version": 3
   },
   "file_extension": ".py",
   "mimetype": "text/x-python",
   "name": "python",
   "nbconvert_exporter": "python",
   "pygments_lexer": "ipython3",
   "version": "3.7.6"
  }
 },
 "nbformat": 4,
 "nbformat_minor": 4
}
