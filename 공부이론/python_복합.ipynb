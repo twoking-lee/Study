{
 "cells": [
  {
   "cell_type": "markdown",
   "metadata": {},
   "source": [
    "# 프로그래밍\n",
    "\n",
    "> **고생많으셨습니다.** <br>\n",
    "> 변수, 조건문, 반복문, 함수, 리스트를 기반으로 프로그래밍을 작성할 수 있습니다. <br>\n",
    "> 이 중에서 반복문 안에서 조건문 쓰기, 반복문 안에서 반복문 쓰기를 꼭 직접 작성해보세요"
   ]
  },
  {
   "cell_type": "markdown",
   "metadata": {},
   "source": [
    "### 반복문 안에서 조건문 쓰기"
   ]
  },
  {
   "cell_type": "markdown",
   "metadata": {},
   "source": [
    "<div class=\"alert alert-block\" style=\"border: 1px solid #FFB300;background-color:#F9FBE7;\">\n",
    "<font size=\"4em\" style=\"font-weight:bold;color:#3f8dbf;\">연습문제 (직접 해보신 후에, 영상으로 확인하세요!)</font><br>\n",
    "2를 변수에 넣고, 2단 구구단을 2 X 1 부터 2 X 9 까지, 반복문을 사용해서 출력하세요<br>\n",
    "단, 2 X 0 은 조건문을 사용해서 출력하지 마세요.<br>\n",
    "예:<br>\n",
    "    2 X 1 = 2<br>\n",
    "    2 X 2 = 4<br>\n",
    "</div>"
   ]
  },
  {
   "cell_type": "code",
   "execution_count": 1,
   "metadata": {},
   "outputs": [
    {
     "name": "stdout",
     "output_type": "stream",
     "text": [
      "2 X 1 = 2\n",
      "2 X 2 = 4\n",
      "2 X 3 = 6\n",
      "2 X 4 = 8\n",
      "2 X 5 = 10\n",
      "2 X 6 = 12\n",
      "2 X 7 = 14\n",
      "2 X 8 = 16\n",
      "2 X 9 = 18\n"
     ]
    }
   ],
   "source": [
    "data1 = 2\n",
    "for item in range(10):\n",
    "    if item != 0:\n",
    "        print(data1, 'X', item, '=', data1 * item)"
   ]
  },
  {
   "cell_type": "markdown",
   "metadata": {},
   "source": [
    "### 반복문 안에서 반복문 쓰기"
   ]
  },
  {
   "cell_type": "markdown",
   "metadata": {},
   "source": [
    "<div class=\"alert alert-block\" style=\"border: 1px solid #FFB300;background-color:#F9FBE7;\">\n",
    "<font size=\"4em\" style=\"font-weight:bold;color:#3f8dbf;\">연습문제 (직접 해보신 후에, 영상으로 확인하세요!)</font><br>\n",
    "구구단을 출력하세요<br>\n",
    "2단부터 9단까지 출력하세요<br>\n",
    "1부터 9까지 곱한 값을 출력하세요 (조건문을 쓰셔도 되고, range 함수를 이용하셔도 됩니다)<br>    \n",
    "예:<br>\n",
    "    2 X 1 = 2<br>\n",
    "    2 X 2 = 4<br>\n",
    "</div>"
   ]
  },
  {
   "cell_type": "code",
   "execution_count": 8,
   "metadata": {},
   "outputs": [
    {
     "name": "stdout",
     "output_type": "stream",
     "text": [
      "item 2\n",
      "item2 1\n",
      "item2 2\n",
      "item2 3\n",
      "item2 4\n",
      "item2 5\n",
      "item2 6\n",
      "item2 7\n",
      "item2 8\n",
      "item2 9\n",
      "item 3\n",
      "item2 1\n",
      "item2 2\n",
      "item2 3\n",
      "item2 4\n",
      "item2 5\n",
      "item2 6\n",
      "item2 7\n",
      "item2 8\n",
      "item2 9\n",
      "item 4\n",
      "item2 1\n",
      "item2 2\n",
      "item2 3\n",
      "item2 4\n",
      "item2 5\n",
      "item2 6\n",
      "item2 7\n",
      "item2 8\n",
      "item2 9\n",
      "item 5\n",
      "item2 1\n",
      "item2 2\n",
      "item2 3\n",
      "item2 4\n",
      "item2 5\n",
      "item2 6\n",
      "item2 7\n",
      "item2 8\n",
      "item2 9\n",
      "item 6\n",
      "item2 1\n",
      "item2 2\n",
      "item2 3\n",
      "item2 4\n",
      "item2 5\n",
      "item2 6\n",
      "item2 7\n",
      "item2 8\n",
      "item2 9\n",
      "item 7\n",
      "item2 1\n",
      "item2 2\n",
      "item2 3\n",
      "item2 4\n",
      "item2 5\n",
      "item2 6\n",
      "item2 7\n",
      "item2 8\n",
      "item2 9\n",
      "item 8\n",
      "item2 1\n",
      "item2 2\n",
      "item2 3\n",
      "item2 4\n",
      "item2 5\n",
      "item2 6\n",
      "item2 7\n",
      "item2 8\n",
      "item2 9\n",
      "item 9\n",
      "item2 1\n",
      "item2 2\n",
      "item2 3\n",
      "item2 4\n",
      "item2 5\n",
      "item2 6\n",
      "item2 7\n",
      "item2 8\n",
      "item2 9\n"
     ]
    }
   ],
   "source": [
    "for item in range(2, 10):\n",
    "    print ('item', item)    \n",
    "    for item2 in range(1, 10):\n",
    "        print ('item2', item2)"
   ]
  },
  {
   "cell_type": "markdown",
   "metadata": {},
   "source": [
    "### 반복문 안에서 리스트 사용하기"
   ]
  },
  {
   "cell_type": "markdown",
   "metadata": {},
   "source": [
    "<div class=\"alert alert-block\" style=\"border: 1px solid #FFB300;background-color:#F9FBE7;\">\n",
    "<font size=\"4em\" style=\"font-weight:bold;color:#3f8dbf;\">연습문제 (직접 해보신 후에, 영상으로 확인하세요!)</font><br>\n",
    "구구단 계산값을 리스트 변수에 추가하세요<br>\n",
    "2단부터 9단까지 순차적으로 추가하세요<br>\n",
    "1부터 9까지 곱한 값을 순차적으로 추가하세요<br>    \n",
    "예:<br>\n",
    "    [2, 4, 6, 8, 10, 12, 14, 16, 18, 3, 6 ...81]<br>\n",
    "</div>"
   ]
  },
  {
   "cell_type": "code",
   "execution_count": 5,
   "metadata": {},
   "outputs": [],
   "source": [
    "datas1 = list()\n",
    "for item in range(2, 10):\n",
    "    for item2 in range(1, 10):\n",
    "        datas1.append(item * item2)"
   ]
  },
  {
   "cell_type": "code",
   "execution_count": 6,
   "metadata": {},
   "outputs": [
    {
     "data": {
      "text/plain": [
       "[2,\n",
       " 4,\n",
       " 6,\n",
       " 8,\n",
       " 10,\n",
       " 12,\n",
       " 14,\n",
       " 16,\n",
       " 18,\n",
       " 3,\n",
       " 6,\n",
       " 9,\n",
       " 12,\n",
       " 15,\n",
       " 18,\n",
       " 21,\n",
       " 24,\n",
       " 27,\n",
       " 4,\n",
       " 8,\n",
       " 12,\n",
       " 16,\n",
       " 20,\n",
       " 24,\n",
       " 28,\n",
       " 32,\n",
       " 36,\n",
       " 5,\n",
       " 10,\n",
       " 15,\n",
       " 20,\n",
       " 25,\n",
       " 30,\n",
       " 35,\n",
       " 40,\n",
       " 45,\n",
       " 6,\n",
       " 12,\n",
       " 18,\n",
       " 24,\n",
       " 30,\n",
       " 36,\n",
       " 42,\n",
       " 48,\n",
       " 54,\n",
       " 7,\n",
       " 14,\n",
       " 21,\n",
       " 28,\n",
       " 35,\n",
       " 42,\n",
       " 49,\n",
       " 56,\n",
       " 63,\n",
       " 8,\n",
       " 16,\n",
       " 24,\n",
       " 32,\n",
       " 40,\n",
       " 48,\n",
       " 56,\n",
       " 64,\n",
       " 72,\n",
       " 9,\n",
       " 18,\n",
       " 27,\n",
       " 36,\n",
       " 45,\n",
       " 54,\n",
       " 63,\n",
       " 72,\n",
       " 81]"
      ]
     },
     "execution_count": 6,
     "metadata": {},
     "output_type": "execute_result"
    }
   ],
   "source": [
    "datas1"
   ]
  },
  {
   "cell_type": "code",
   "execution_count": null,
   "metadata": {},
   "outputs": [],
   "source": []
  },
  {
   "cell_type": "code",
   "execution_count": null,
   "metadata": {},
   "outputs": [],
   "source": []
  },
  {
   "cell_type": "code",
   "execution_count": null,
   "metadata": {},
   "outputs": [],
   "source": []
  }
 ],
 "metadata": {
  "kernelspec": {
   "display_name": "Python 3",
   "language": "python",
   "name": "python3"
  },
  "language_info": {
   "codemirror_mode": {
    "name": "ipython",
    "version": 3
   },
   "file_extension": ".py",
   "mimetype": "text/x-python",
   "name": "python",
   "nbconvert_exporter": "python",
   "pygments_lexer": "ipython3",
   "version": "3.7.7"
  }
 },
 "nbformat": 4,
 "nbformat_minor": 4
}
