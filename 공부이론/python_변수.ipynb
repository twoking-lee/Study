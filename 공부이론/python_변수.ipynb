{
 "cells": [
  {
   "cell_type": "markdown",
   "metadata": {},
   "source": [
    "# 파이썬 기본\n",
    "1. **데이터 타입, 변수, 그리고 출력**\n",
    "2. 조건문\n",
    "3. 반복문\n",
    "4. 함수\n",
    "\n",
    "> 이외에 필요한 부분은 실제 자동화 프로그램을 작성하며, 필요할 때 익힙니다.\n",
    "\n",
    "> 프로그래밍 문법은 정말 다양합니다. 처음에는 무조건 초간단하게! "
   ]
  },
  {
   "cell_type": "markdown",
   "metadata": {},
   "source": [
    "## 데이터 타입, 변수, 그리고 출력"
   ]
  },
  {
   "cell_type": "markdown",
   "metadata": {},
   "source": [
    "### 1. 데이터 타입\n",
    "\n",
    "> 프로그래밍은 데이터를 기반으로 컴퓨터에 명령을 실행합니다.\n",
    "> 그래서 데이터 타입과 데이터 표기법에 대해 꼭 알고 계셔야 합니다."
   ]
  },
  {
   "cell_type": "markdown",
   "metadata": {},
   "source": [
    "### 주요 데이터 타입\n",
    "\n",
    "- 크게 문자, 숫자, 참/거짓(boolean) 으로 나뉩니다.\n",
    "- 문자는 '문자' 또는 \"문자\" 와 같이 따옴표와 함께 써야 합니다. \n",
    "- 숫자는 숫자 그대로 쓰면 됩니다.\n",
    "- 참/거짓(boolean)은 True/False 로 씁니다. (대소문자 구분합니다.)"
   ]
  },
  {
   "cell_type": "markdown",
   "metadata": {},
   "source": [
    "### 2. 변수와 데이터 타입\n",
    "- 데이터를 저장할 수 있습니다.\n",
    "- 변수 이름으로, 데이터 저장소를 구분하고, 데이터를 저장하고, 변경할 수 있습니다.\n",
    "\n",
    "> 필요한 데이터가 있을 때마다, 변수를 다음과 같이 선언합니다.\n",
    "\n",
    "```python\n",
    "새로운 변수이름 = 데이터\n",
    "```"
   ]
  },
  {
   "cell_type": "code",
   "execution_count": 9,
   "metadata": {},
   "outputs": [],
   "source": [
    "data1 = '안녕'\n",
    "data2 = 1\n",
    "data3 = 1.2\n",
    "data4 = True"
   ]
  },
  {
   "cell_type": "markdown",
   "metadata": {},
   "source": [
    "> 패턴으로 익히세요: 변수 이름을 짓는 규칙이 있지만, **변수가 필요할 때마다, data1, data2, 와 같이만 적으세요.**\n",
    "\n",
    "> 영어 소문자로 시작하고, 영문자로만 구성되는 것이 가장 안전함 (대소문자 구분)"
   ]
  },
  {
   "cell_type": "markdown",
   "metadata": {},
   "source": [
    "### 변수 활용\n",
    "- 변수는 한번 선언되면, 이후에 변수 이름으로 변수값을 사용할 수 있음\n",
    "- 변수값은 변경할 수 있음"
   ]
  },
  {
   "cell_type": "code",
   "execution_count": 19,
   "metadata": {},
   "outputs": [
    {
     "data": {
      "text/plain": [
       "6"
      ]
     },
     "execution_count": 19,
     "metadata": {},
     "output_type": "execute_result"
    }
   ],
   "source": [
    "data2 = 3\n",
    "data2 + data2"
   ]
  },
  {
   "cell_type": "code",
   "execution_count": 20,
   "metadata": {},
   "outputs": [
    {
     "data": {
      "text/plain": [
       "3"
      ]
     },
     "execution_count": 20,
     "metadata": {},
     "output_type": "execute_result"
    }
   ],
   "source": [
    "data2"
   ]
  },
  {
   "cell_type": "code",
   "execution_count": 12,
   "metadata": {},
   "outputs": [
    {
     "data": {
      "text/plain": [
       "6"
      ]
     },
     "execution_count": 12,
     "metadata": {},
     "output_type": "execute_result"
    }
   ],
   "source": [
    "data2 = 3\n",
    "data2 + data2"
   ]
  },
  {
   "cell_type": "markdown",
   "metadata": {},
   "source": [
    "### 함수란?\n",
    "* y = f(x)\n",
    "\n",
    "> 괄호 안에 입력값을 넣는다만 이해해주세요! 구체적인 사항은 함수 챕터에서 설명드립니다.\n",
    "\n",
    "### 데이터 타입 확인\n",
    "> type() 라는 함수를 통해, 데이터 타입 확인이 가능합니다.\n",
    "> 데이터 타입에 따라, 변수를 다루는 방법이 달라지므로, 꼭 데이터 타입을 확인하세요\n",
    "\n",
    "- str: 문자\n",
    "- int: 정수 (숫자는 정수 또는 부동소숫점 으로 세분화 됩니다.)\n",
    "- float: 부동소숫점\n",
    "- bool: 참/거짓(boolean)"
   ]
  },
  {
   "cell_type": "markdown",
   "metadata": {},
   "source": [
    "> 데이터 타입이 다르면 변수를 다루는 방법이 달라집니다.\n",
    "\n",
    "- 예: 문자 데이터 변수와 숫자 데이터 변수는 덧셈이 안됩니다."
   ]
  },
  {
   "cell_type": "code",
   "execution_count": 2,
   "metadata": {},
   "outputs": [
    {
     "ename": "TypeError",
     "evalue": "can only concatenate str (not \"int\") to str",
     "output_type": "error",
     "traceback": [
      "\u001b[0;31m---------------------------------------------------------------------------\u001b[0m",
      "\u001b[0;31mTypeError\u001b[0m                                 Traceback (most recent call last)",
      "\u001b[0;32m<ipython-input-2-11cd636a49b8>\u001b[0m in \u001b[0;36m<module>\u001b[0;34m\u001b[0m\n\u001b[1;32m      1\u001b[0m \u001b[0;31m# 에러 확인 (코드로 실행하지 않는 라인은 # 을 앞에 써주면 됨, 코드에 대한 설명을 위해 작성하며 주석이라고 부름)\u001b[0m\u001b[0;34m\u001b[0m\u001b[0;34m\u001b[0m\u001b[0;34m\u001b[0m\u001b[0m\n\u001b[0;32m----> 2\u001b[0;31m \u001b[0mdata1\u001b[0m \u001b[0;34m+\u001b[0m \u001b[0mdata2\u001b[0m\u001b[0;34m\u001b[0m\u001b[0;34m\u001b[0m\u001b[0m\n\u001b[0m",
      "\u001b[0;31mTypeError\u001b[0m: can only concatenate str (not \"int\") to str"
     ]
    }
   ],
   "source": [
    "# 에러 확인 (코드로 실행하지 않는 라인은 # 을 앞에 써주면 됨, 코드에 대한 설명을 위해 작성하며 주석이라고 부름)\n",
    "data1 + data2"
   ]
  },
  {
   "cell_type": "code",
   "execution_count": 3,
   "metadata": {},
   "outputs": [
    {
     "data": {
      "text/plain": [
       "str"
      ]
     },
     "execution_count": 3,
     "metadata": {},
     "output_type": "execute_result"
    }
   ],
   "source": [
    "type(data1)"
   ]
  },
  {
   "cell_type": "code",
   "execution_count": 4,
   "metadata": {},
   "outputs": [
    {
     "data": {
      "text/plain": [
       "int"
      ]
     },
     "execution_count": 4,
     "metadata": {},
     "output_type": "execute_result"
    }
   ],
   "source": [
    "type(data2)"
   ]
  },
  {
   "cell_type": "code",
   "execution_count": 5,
   "metadata": {},
   "outputs": [
    {
     "data": {
      "text/plain": [
       "float"
      ]
     },
     "execution_count": 5,
     "metadata": {},
     "output_type": "execute_result"
    }
   ],
   "source": [
    "type(data3)"
   ]
  },
  {
   "cell_type": "code",
   "execution_count": 6,
   "metadata": {},
   "outputs": [
    {
     "data": {
      "text/plain": [
       "bool"
      ]
     },
     "execution_count": 6,
     "metadata": {},
     "output_type": "execute_result"
    }
   ],
   "source": [
    "type(data4)"
   ]
  },
  {
   "cell_type": "markdown",
   "metadata": {},
   "source": [
    "### 출력\n",
    "- 주피터 노트북은 셀 마지막 라인에 변수등을 적을 경우, 변수값을 자동 출력\n",
    "- 변수값등을 확인하기 위해, 화면에 출력하라는 명령을 별도로 해줘야 함\n",
    "  - 어느 부분을 출력해야할지 모르기 때문\n",
    "- print() 함수가 화면에 출력하라는 명령\n",
    "  - print(변수)"
   ]
  },
  {
   "cell_type": "code",
   "execution_count": 10,
   "metadata": {},
   "outputs": [
    {
     "data": {
      "text/plain": [
       "1"
      ]
     },
     "execution_count": 10,
     "metadata": {},
     "output_type": "execute_result"
    }
   ],
   "source": [
    "data1\n",
    "data2"
   ]
  },
  {
   "cell_type": "code",
   "execution_count": 13,
   "metadata": {},
   "outputs": [
    {
     "name": "stdout",
     "output_type": "stream",
     "text": [
      "안녕\n",
      "1\n",
      "1.2\n",
      "True\n"
     ]
    }
   ],
   "source": [
    "print(data1)\n",
    "print(data2)\n",
    "print(data3)\n",
    "print(data4)"
   ]
  },
  {
   "cell_type": "markdown",
   "metadata": {},
   "source": [
    "### 변수, 출력과 계산"
   ]
  },
  {
   "cell_type": "code",
   "execution_count": 15,
   "metadata": {},
   "outputs": [
    {
     "name": "stdout",
     "output_type": "stream",
     "text": [
      "10\n",
      "7\n",
      "2.142857142857143\n",
      "3400\n"
     ]
    }
   ],
   "source": [
    "print(3 + 7)\n",
    "print(10 - 3)\n",
    "print(15 / 7)\n",
    "print(34 * 100)"
   ]
  },
  {
   "cell_type": "code",
   "execution_count": 16,
   "metadata": {},
   "outputs": [
    {
     "name": "stdout",
     "output_type": "stream",
     "text": [
      "15\n",
      "-5\n",
      "0.5\n",
      "50\n"
     ]
    }
   ],
   "source": [
    "data1 = 5\n",
    "data2 = 10\n",
    "\n",
    "print (data1 + data2)\n",
    "print (data1 - data2)\n",
    "print (data1 / data2)\n",
    "print (data1 * data2)"
   ]
  },
  {
   "cell_type": "markdown",
   "metadata": {},
   "source": [
    "### 출력에서 이 부분만 꼭 알아주세요!\n",
    "- 다음과 같은 형태로 다양한 출력이 가능합니다.\n",
    "  - print (데이터, 데이터, 데이터 ...)"
   ]
  },
  {
   "cell_type": "code",
   "execution_count": 20,
   "metadata": {},
   "outputs": [
    {
     "name": "stdout",
     "output_type": "stream",
     "text": [
      "5 10 1.2 True 1 2 3\n",
      "5 X 10 = 50\n"
     ]
    }
   ],
   "source": [
    "print(data1, data2, data3, data4, 1, 2, 3)\n",
    "print(data1, 'X', data2, '=', data1 * data2)"
   ]
  },
  {
   "cell_type": "markdown",
   "metadata": {},
   "source": [
    "<div class=\"alert alert-block\" style=\"border: 1px solid #FFB300;background-color:#F9FBE7;\">\n",
    "<font size=\"4em\" style=\"font-weight:bold;color:#3f8dbf;\">연습문제 (직접 해보신 후에, 영상으로 확인하세요!)</font><br>\n",
    "나를 나타낼 수 있는 데이터를 각각 변수로 만들어보기<br>\n",
    "나이, 이름, 취미, 직업<br>\n",
    "</div>"
   ]
  },
  {
   "cell_type": "code",
   "execution_count": 22,
   "metadata": {},
   "outputs": [],
   "source": [
    "age = 35\n",
    "name = 'Dave Lee'\n",
    "hobby = '컴퓨터'\n",
    "job = '개발자'"
   ]
  },
  {
   "cell_type": "markdown",
   "metadata": {},
   "source": [
    "<div class=\"alert alert-block\" style=\"border: 1px solid #FFB300;background-color:#F9FBE7;\">\n",
    "<font size=\"4em\" style=\"font-weight:bold;color:#3f8dbf;\">연습문제 (직접 해보신 후에, 영상으로 확인하세요!)</font><br>\n",
    "2를 변수에 넣고, 해당 변수를 사용해서 구구단 2단을 출력하세요<br>\n",
    "예: <br>\n",
    "    2 X 1 = 2 <br>\n",
    "    2 X 2 = 4 <br>    \n",
    "</div>"
   ]
  },
  {
   "cell_type": "code",
   "execution_count": 24,
   "metadata": {},
   "outputs": [
    {
     "name": "stdout",
     "output_type": "stream",
     "text": [
      "2 X 1 = 2\n",
      "2 X 2 = 4\n",
      "2 X 3 = 6\n",
      "2 X 4 = 8\n",
      "2 X 5 = 10\n",
      "2 X 6 = 12\n",
      "2 X 7 = 14\n",
      "2 X 8 = 16\n",
      "2 X 9 = 18\n"
     ]
    }
   ],
   "source": [
    "data1 = 2\n",
    "\n",
    "print (data1, 'X', 1, '=', data1 * 1)\n",
    "print (data1, 'X', 2, '=', data1 * 2)\n",
    "print (data1, 'X', 3, '=', data1 * 3)\n",
    "print (data1, 'X', 4, '=', data1 * 4)\n",
    "print (data1, 'X', 5, '=', data1 * 5)\n",
    "print (data1, 'X', 6, '=', data1 * 6)\n",
    "print (data1, 'X', 7, '=', data1 * 7)\n",
    "print (data1, 'X', 8, '=', data1 * 8)\n",
    "print (data1, 'X', 9, '=', data1 * 9)"
   ]
  },
  {
   "cell_type": "markdown",
   "metadata": {},
   "source": [
    "<div class=\"alert alert-block\" style=\"border: 1px solid #FFB300;background-color:#F9FBE7;\">\n",
    "<font size=\"4em\" style=\"font-weight:bold;color:#3f8dbf;\">연습문제 (직접 해보신 후에, 영상으로 확인하세요!)</font><br>\n",
    "10 과 5 를 각각 변수에 넣고, 두 변수를 더한 값, 곱한 값, 나눈 값을 출력하세요<br>\n",
    "</div>"
   ]
  },
  {
   "cell_type": "code",
   "execution_count": 25,
   "metadata": {},
   "outputs": [
    {
     "name": "stdout",
     "output_type": "stream",
     "text": [
      "15\n",
      "50\n",
      "2.0\n"
     ]
    }
   ],
   "source": [
    "data1 = 10\n",
    "data2 = 5\n",
    "\n",
    "print (data1 + data2)\n",
    "print (data1 * data2)\n",
    "print (data1 / data2)"
   ]
  },
  {
   "cell_type": "markdown",
   "metadata": {},
   "source": [
    "<div class=\"alert alert-block\" style=\"border: 1px solid #FFB300;background-color:#F9FBE7;\">\n",
    "<font size=\"4em\" style=\"font-weight:bold;color:#3f8dbf;\">연습문제 (직접 해보신 후에, 영상으로 확인하세요!)</font><br>\n",
    "잔재미코딩, 4, False, 3.3 각각을 변수에 넣고, 각 데이터 타입을 출력하세요<br>\n",
    "</div>"
   ]
  },
  {
   "cell_type": "code",
   "execution_count": 31,
   "metadata": {},
   "outputs": [
    {
     "name": "stdout",
     "output_type": "stream",
     "text": [
      "<class 'str'>\n"
     ]
    }
   ],
   "source": [
    "data1 = '잔재미코딩'\n",
    "data2 = 4\n",
    "data3 = False\n",
    "data4 = 3.3\n",
    "\n",
    "print(type(data1))"
   ]
  },
  {
   "cell_type": "code",
   "execution_count": 29,
   "metadata": {},
   "outputs": [
    {
     "data": {
      "text/plain": [
       "int"
      ]
     },
     "execution_count": 29,
     "metadata": {},
     "output_type": "execute_result"
    }
   ],
   "source": [
    "type(data2)"
   ]
  },
  {
   "cell_type": "code",
   "execution_count": 30,
   "metadata": {},
   "outputs": [
    {
     "data": {
      "text/plain": [
       "bool"
      ]
     },
     "execution_count": 30,
     "metadata": {},
     "output_type": "execute_result"
    }
   ],
   "source": [
    "type(data3)"
   ]
  },
  {
   "cell_type": "code",
   "execution_count": null,
   "metadata": {},
   "outputs": [],
   "source": []
  }
 ],
 "metadata": {
  "kernelspec": {
   "display_name": "Python 3",
   "language": "python",
   "name": "python3"
  },
  "language_info": {
   "codemirror_mode": {
    "name": "ipython",
    "version": 3
   },
   "file_extension": ".py",
   "mimetype": "text/x-python",
   "name": "python",
   "nbconvert_exporter": "python",
   "pygments_lexer": "ipython3",
   "version": "3.7.7"
  }
 },
 "nbformat": 4,
 "nbformat_minor": 4
}
